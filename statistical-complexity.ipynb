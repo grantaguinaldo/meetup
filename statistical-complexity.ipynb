{
 "cells": [
  {
   "cell_type": "code",
   "execution_count": 1,
   "metadata": {},
   "outputs": [],
   "source": [
    "import numpy as np"
   ]
  },
  {
   "cell_type": "code",
   "execution_count": 2,
   "metadata": {},
   "outputs": [],
   "source": [
    "# Transistion States from Problem\n",
    "#a 000 -> 001\n",
    "\n",
    "#b 001 -> 010, 011 (f) This is casual linkage, dont have to distingusih between 001 and 101\n",
    "#f 101 -> 010, 011 (b)\n",
    "\n",
    "#c 010 -> 100, 101 (g) This is casual linkage, dont have to distingusih between 010 and 110\n",
    "#g 110 -> 100, 101 (c)\n",
    "\n",
    "#d 011 -> 110, 111\n",
    "#e 100 -> 000, 001\n",
    "\n",
    "#h 111 -> 110\n",
    "# You can remove the redundant patterns to get 6 unique ones."
   ]
  },
  {
   "cell_type": "code",
   "execution_count": 3,
   "metadata": {},
   "outputs": [
    {
     "data": {
      "text/plain": [
       "array([[0. , 0. , 0. , 0. , 0.5, 0. ],\n",
       "       [1. , 0. , 0.5, 0. , 0.5, 0. ],\n",
       "       [0. , 0.5, 0. , 0.5, 0. , 1. ],\n",
       "       [0. , 0.5, 0. , 0. , 0. , 0. ],\n",
       "       [0. , 0. , 0.5, 0. , 0. , 0. ],\n",
       "       [0. , 0. , 0. , 0.5, 0. , 0. ]])"
      ]
     },
     "execution_count": 3,
     "metadata": {},
     "output_type": "execute_result"
    }
   ],
   "source": [
    "#a 000 -> 001\n",
    "#b *01 -> 010, 011 \n",
    "#c *10 -> 100, 101  \n",
    "#d 011 -> 110, 111\n",
    "#e 100 -> 000, 001\n",
    "#f 111 -> 110\n",
    "#Construct a TPM based on these data (Example of Lossy)\n",
    "# (a, b), (b, c), (b, d), (c, e), (c, b), \n",
    "# (d, c), (d, f), (e, a), (e, b), (f, c) \n",
    "\n",
    "a = \\\n",
    "[[0, 1, 0, 0, 0, 0],\n",
    "[0, 0, 1/2, 1/2, 0, 0],\n",
    "[0, 1/2, 0, 0, 1/2, 0],\n",
    "[0, 0, 1/2, 0, 0, 1/2],\n",
    "[1/2, 1/2, 0, 0, 0, 0],\n",
    "[0, 0, 1, 0, 0 ,0]]\n",
    "A = np.array(a)\n",
    "A.T"
   ]
  },
  {
   "cell_type": "code",
   "execution_count": 4,
   "metadata": {},
   "outputs": [
    {
     "data": {
      "text/plain": [
       "(array([ 1.        +0.j        , -0.67660498+0.j        ,\n",
       "         0.08830249+0.60141041j,  0.08830249-0.60141041j,\n",
       "        -0.25      +0.4330127j , -0.25      -0.4330127j ]),\n",
       " array([[ 0.15430335+0.00000000e+00j, -0.28433915+0.00000000e+00j,\n",
       "         -0.31365673-9.41350667e-02j, -0.31365673+9.41350667e-02j,\n",
       "         -0.20412415-3.53553391e-01j, -0.20412415+3.53553391e-01j],\n",
       "        [ 0.6172134 +0.00000000e+00j,  0.52067538+0.00000000e+00j,\n",
       "         -0.48400201+0.00000000e+00j, -0.48400201-0.00000000e+00j,\n",
       "         -0.20412415+3.53553391e-01j, -0.20412415-3.53553391e-01j],\n",
       "        [ 0.6172134 +0.00000000e+00j, -0.52067538+0.00000000e+00j,\n",
       "          0.48400201+1.70923766e-17j,  0.48400201-1.70923766e-17j,\n",
       "         -0.20412415+3.53553391e-01j, -0.20412415-3.53553391e-01j],\n",
       "        [ 0.3086067 +0.00000000e+00j, -0.38477058+0.00000000e+00j,\n",
       "         -0.05783428+3.93897566e-01j, -0.05783428-3.93897566e-01j,\n",
       "          0.40824829+0.00000000e+00j,  0.40824829-0.00000000e+00j],\n",
       "        [ 0.3086067 +0.00000000e+00j,  0.38477058+0.00000000e+00j,\n",
       "          0.05783428-3.93897566e-01j,  0.05783428+3.93897566e-01j,\n",
       "          0.40824829+2.77785629e-16j,  0.40824829-2.77785629e-16j],\n",
       "        [ 0.15430335+0.00000000e+00j,  0.28433915+0.00000000e+00j,\n",
       "          0.31365673+9.41350667e-02j,  0.31365673-9.41350667e-02j,\n",
       "         -0.20412415-3.53553391e-01j, -0.20412415+3.53553391e-01j]]))"
      ]
     },
     "execution_count": 4,
     "metadata": {},
     "output_type": "execute_result"
    }
   ],
   "source": [
    "eigen_system = np.linalg.eig(A.T)\n",
    "eigen_system"
   ]
  },
  {
   "cell_type": "code",
   "execution_count": 5,
   "metadata": {},
   "outputs": [
    {
     "data": {
      "text/plain": [
       "[1.0,\n",
       " -0.6766049820996621,\n",
       " 0.08830249104983132,\n",
       " 0.08830249104983132,\n",
       " -0.24999999999999992,\n",
       " -0.24999999999999992]"
      ]
     },
     "execution_count": 5,
     "metadata": {},
     "output_type": "execute_result"
    }
   ],
   "source": [
    "eigen_values = eigen_system[0]\n",
    "real_evalues = list(np.real(eigen_values))\n",
    "real_evalues"
   ]
  },
  {
   "cell_type": "code",
   "execution_count": 6,
   "metadata": {},
   "outputs": [
    {
     "data": {
      "text/plain": [
       "array([0.15430335, 0.6172134 , 0.6172134 , 0.3086067 , 0.3086067 ,\n",
       "       0.15430335])"
      ]
     },
     "execution_count": 6,
     "metadata": {},
     "output_type": "execute_result"
    }
   ],
   "source": [
    "eigen_vectors = eigen_system[1]\n",
    "#np.real(eigen_vectors[:,0]).reshape(len(eigen_vectors[:,0]), 1)\n",
    "eigen_vec_list = np.real(eigen_vectors[:, np.argmax(real_evalues)])\n",
    "eigen_vec_list"
   ]
  },
  {
   "cell_type": "code",
   "execution_count": 7,
   "metadata": {},
   "outputs": [
    {
     "data": {
      "text/plain": [
       "array([[0.07142857],\n",
       "       [0.28571429],\n",
       "       [0.28571429],\n",
       "       [0.14285714],\n",
       "       [0.14285714],\n",
       "       [0.07142857]])"
      ]
     },
     "execution_count": 7,
     "metadata": {},
     "output_type": "execute_result"
    }
   ],
   "source": [
    "steady_state_tpm = np.array([each/sum(eigen_vec_list) for each in eigen_vec_list])\n",
    "steady_state_tpm.reshape(len(steady_state_tpm), 1)"
   ]
  },
  {
   "cell_type": "code",
   "execution_count": 8,
   "metadata": {},
   "outputs": [
    {
     "data": {
      "text/plain": [
       "array([0.07142857, 0.28571429, 0.28571429, 0.14285714, 0.14285714,\n",
       "       0.07142857])"
      ]
     },
     "execution_count": 8,
     "metadata": {},
     "output_type": "execute_result"
    }
   ],
   "source": [
    "q = steady_state_tpm\n",
    "q"
   ]
  },
  {
   "cell_type": "code",
   "execution_count": 9,
   "metadata": {},
   "outputs": [],
   "source": [
    "def entropy(x):\n",
    "    return sum([-1*each*np.log2(each) for each in x])"
   ]
  },
  {
   "cell_type": "code",
   "execution_count": 10,
   "metadata": {},
   "outputs": [
    {
     "data": {
      "text/plain": [
       "2.3787834934861753"
      ]
     },
     "execution_count": 10,
     "metadata": {},
     "output_type": "execute_result"
    }
   ],
   "source": [
    "entropy(q)"
   ]
  }
 ],
 "metadata": {
  "kernelspec": {
   "display_name": "Python 3",
   "language": "python",
   "name": "python3"
  },
  "language_info": {
   "codemirror_mode": {
    "name": "ipython",
    "version": 3
   },
   "file_extension": ".py",
   "mimetype": "text/x-python",
   "name": "python",
   "nbconvert_exporter": "python",
   "pygments_lexer": "ipython3",
   "version": "3.8.2"
  }
 },
 "nbformat": 4,
 "nbformat_minor": 4
}
