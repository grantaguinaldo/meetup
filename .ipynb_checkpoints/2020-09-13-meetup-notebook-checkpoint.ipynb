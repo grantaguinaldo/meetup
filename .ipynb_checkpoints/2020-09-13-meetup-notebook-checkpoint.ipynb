{
 "cells": [
  {
   "cell_type": "markdown",
   "metadata": {},
   "source": [
    "## SSIE 500 Meetup 2020-09-13\n",
    "### Grant T. Aguinaldo (gaguina1)\n",
    "\n",
    "There are alot of different ways of getting a task done. In general you should aim to write the least amount of code based on your task and ability. Some of the examples in here are bad ones, but show different functionality that you can use. \n",
    "\n",
    "There is a Python Style guide, called PEP-008 that _should_ be followed to the best that you can based on your ability/knowledge of the langugae. \n",
    "\n",
    "https://www.python.org/dev/peps/pep-0008/"
   ]
  },
  {
   "cell_type": "markdown",
   "metadata": {},
   "source": [
    "### List Comphrensions\n",
    "https://treyhunner.com/2015/12/python-list-comprehensions-now-in-color\n",
    "\n",
    "Compact way to iterate through a list and do something. "
   ]
  },
  {
   "cell_type": "code",
   "execution_count": null,
   "metadata": {},
   "outputs": [],
   "source": [
    "#TODO: Find all of the values between 0 and 20 that are divisible by 2.\n",
    "# Option 1\n",
    "\n",
    "div_by_2 = []                  # Create an empty list\n",
    "for i in range(0, 21):         # Set up a for loop to check all of the values from 0 to 20, inclusive.\n",
    "    if i % 2 ==0:              # Check that there is no remainder when dividing by two.\n",
    "        div_by_2.append(i)     # If the remainder is zero, then add the value to the list.\n",
    "    else:                      # If the remainder is  not zero, pass on the next value (do nothing)\n",
    "        pass                   # This line is not needed.\n",
    "div_by_2                       # Return the list containing the values that are divisible by 2."
   ]
  },
  {
   "cell_type": "code",
   "execution_count": null,
   "metadata": {},
   "outputs": [],
   "source": [
    "# Option 2\n",
    "\n",
    "div_by_2 = []\n",
    "for i in [0, 1, 2, 3, 4, 5, 6, 7, 8, 9, 10, 11, 12, 13, 14, 15, 16, 17, 18, 19, 20]:\n",
    "    if i % 2 ==0:              \n",
    "        div_by_2.append(i)     \n",
    "    else:                      \n",
    "        pass                   \n",
    "div_by_2 "
   ]
  },
  {
   "cell_type": "code",
   "execution_count": null,
   "metadata": {},
   "outputs": [],
   "source": [
    "#TODO: Find all of the values between 0 and 20 that are divisible by 2. (List Comprehension)\n",
    "# Option 1\n",
    "div_by_2 = [i for i in range(0,21) if i % 2 == 0]\n",
    "div_by_2"
   ]
  },
  {
   "cell_type": "code",
   "execution_count": null,
   "metadata": {},
   "outputs": [],
   "source": [
    "# Option 2\n",
    "div_by_2 = [i for i in [0, 1, 2, 3, 4, 5, 6, 7, 8, 9, 10, 11, 12, 13, 14, 15, 16, 17, 18, 19, 20] if i % 2 == 0]\n",
    "div_by_2"
   ]
  },
  {
   "cell_type": "markdown",
   "metadata": {},
   "source": [
    "### What is an `iterable` and why is it important?\n",
    "\n",
    "> An object capable of returning its members one at a time. Examples of iterables include all sequence types (such as `list`, `str`, and `tuple`) and some non-sequence types like `dict`, `file objects` ... [https://docs.python.org/3/glossary.html#term-iterable]\n",
    "\n",
    "Iterables are imporant since you can write a loop to iterate through the object to do something repetative. \n",
    "\n",
    "The `range()` object can be treated as an iterable. (There  is a whole discussion about the difference between iterables a nd an iterator.).\n",
    "\n",
    ">An object representing a stream of data. [https://docs.python.org/3/glossary.html#term-iterable]\n",
    "\n",
    "You can also iterate through an iterator.* \n",
    "\n",
    "[Least qualified to talk  about the inner workings of these objects. :)]"
   ]
  },
  {
   "cell_type": "markdown",
   "metadata": {},
   "source": [
    "### Using `enumerate()` in a `for-loop`.\n",
    "Treat `enumerate()` as an object that you can iterate through, but at each step, the object also returns the iteration step."
   ]
  },
  {
   "cell_type": "code",
   "execution_count": null,
   "metadata": {},
   "outputs": [],
   "source": [
    "#TODO: Find all of the values between 0 and 20 that are divisible by 2.\n",
    "# Option 1\n",
    "\n",
    "div_by_2 = []                  \n",
    "for i, j in enumerate([0, 1, 2, 3, 4, 5, 6, 7, 8, 9, 10, 11, 12, 13, 14, 15, 16, 17, 18, 19, 20]):         \n",
    "    if j % 2 ==0:              \n",
    "        div_by_2.append(j)     \n",
    "    else:                      \n",
    "        pass                   \n",
    "div_by_2   "
   ]
  },
  {
   "cell_type": "code",
   "execution_count": null,
   "metadata": {},
   "outputs": [],
   "source": [
    "# Option 2\n",
    "\n",
    "div_by_2 = []  \n",
    "index_num = []\n",
    "for i, j in enumerate([0, 1, 2, 4, 5, 6, 7, 8, 9, 10, 11, 12, 13, 14, 15, 16, 17, 18, 19, 20]):         \n",
    "    if j % 2 ==0:              \n",
    "        div_by_2.append(j)\n",
    "        index_num.append(i)\n",
    "    else:                      \n",
    "        pass                   \n",
    "print('The values in the list that are divisible by two include: {}'.format(div_by_2))\n",
    "print('The indices of the values in the list that are divisible by two include: {}'.format(index_num))"
   ]
  },
  {
   "cell_type": "code",
   "execution_count": null,
   "metadata": {},
   "outputs": [],
   "source": [
    "# Option 3\n",
    "\n",
    "div_by_2 = []  \n",
    "index_num = []\n",
    "for i, j in enumerate(range(0, 22)):         \n",
    "    if j % 2 ==0:              \n",
    "        div_by_2.append(j)\n",
    "        index_num.append(i)\n",
    "    else:                      \n",
    "        pass                   \n",
    "print('The values in the list that are divisible by two include: {}'.format(div_by_2))\n",
    "print('The indices of the values in the list that are divisible by two include: {}'.format(index_num))"
   ]
  },
  {
   "cell_type": "code",
   "execution_count": null,
   "metadata": {},
   "outputs": [],
   "source": [
    "index_num = [i for i, j in enumerate(range(0, 21)) if j % 2 == 0]\n",
    "print('The indices of the values in the list that are divisible by two include: {}'.format(index_num))"
   ]
  },
  {
   "cell_type": "markdown",
   "metadata": {},
   "source": [
    "### Changing data types\n",
    "\n",
    "Changing from `list` to `tuple`. In most cases, tuples are immutable, that means that the values in the tuple can't be changed. "
   ]
  },
  {
   "cell_type": "code",
   "execution_count": null,
   "metadata": {},
   "outputs": [],
   "source": [
    "# TODO: Create a tuple of a list.\n",
    "tuple(index_num)"
   ]
  },
  {
   "cell_type": "code",
   "execution_count": null,
   "metadata": {},
   "outputs": [],
   "source": [
    "# TODO: Create a list of a tuple of a list.\n",
    "list(tuple(index_num))"
   ]
  },
  {
   "cell_type": "markdown",
   "metadata": {},
   "source": [
    "### Working with lists and tuples."
   ]
  },
  {
   "cell_type": "code",
   "execution_count": null,
   "metadata": {},
   "outputs": [],
   "source": [
    "my_tuple = ('grant', 'los angeles')\n",
    "my_list = ['grant', 'los angeles']"
   ]
  },
  {
   "cell_type": "code",
   "execution_count": null,
   "metadata": {},
   "outputs": [],
   "source": [
    "fav_food = 'sushi'"
   ]
  },
  {
   "cell_type": "code",
   "execution_count": null,
   "metadata": {},
   "outputs": [],
   "source": [
    "my_list.append(fav_food)\n",
    "my_list"
   ]
  },
  {
   "cell_type": "code",
   "execution_count": null,
   "metadata": {},
   "outputs": [],
   "source": [
    "# Throws an error.\n",
    "my_tuple.append(fav_food)\n",
    "my_list"
   ]
  },
  {
   "cell_type": "code",
   "execution_count": null,
   "metadata": {},
   "outputs": [],
   "source": [
    "#TODO: Create a tuple via a comprehension.\n",
    "\n",
    "my_tuple_via_comp = (i for i, j in enumerate(range(0, 21)) if j % 2 == 0)\n",
    "my_tuple_via_comp # Creates an object in RAM that needs to be convered to a tuple."
   ]
  },
  {
   "cell_type": "code",
   "execution_count": null,
   "metadata": {},
   "outputs": [],
   "source": [
    "converted_tuple = tuple(my_tuple_via_comp) #Converts the generator object in RAM to a  tuple.\n",
    "converted_tuple"
   ]
  },
  {
   "cell_type": "code",
   "execution_count": null,
   "metadata": {},
   "outputs": [],
   "source": [
    "type(converted_tuple)"
   ]
  },
  {
   "cell_type": "code",
   "execution_count": null,
   "metadata": {},
   "outputs": [],
   "source": [
    "#TODO: Remove the last element from `my_list`"
   ]
  },
  {
   "cell_type": "code",
   "execution_count": null,
   "metadata": {},
   "outputs": [],
   "source": [
    "my_list #Initial list"
   ]
  },
  {
   "cell_type": "code",
   "execution_count": null,
   "metadata": {},
   "outputs": [],
   "source": [
    "my_list.pop(2) #Removes the element with index = 2, `sushi`"
   ]
  },
  {
   "cell_type": "code",
   "execution_count": null,
   "metadata": {},
   "outputs": [],
   "source": [
    "my_list #List with `sushi` removed"
   ]
  },
  {
   "cell_type": "code",
   "execution_count": null,
   "metadata": {},
   "outputs": [],
   "source": [
    "my_tuple #Initial tuple"
   ]
  },
  {
   "cell_type": "code",
   "execution_count": null,
   "metadata": {},
   "outputs": [],
   "source": [
    "# Throws an error.\n",
    "my_tuple.pop(1) # Can't remove the element with index = 1."
   ]
  },
  {
   "cell_type": "markdown",
   "metadata": {},
   "source": [
    "### Data \"slicing.\""
   ]
  },
  {
   "cell_type": "code",
   "execution_count": null,
   "metadata": {},
   "outputs": [],
   "source": [
    "#TODO: Remove the values 3, 4, 5 from the list below and insert values into a  new list.\n",
    "my_list = [1, 2, 3, 4, 5]"
   ]
  },
  {
   "cell_type": "code",
   "execution_count": null,
   "metadata": {},
   "outputs": [],
   "source": [
    "#Option 1\n",
    "\n",
    "my_list = [1, 2, 3, 4, 5]\n",
    "new_list = []\n",
    "for i in my_list:\n",
    "    if i in [3, 4, 5]: #Looks at the desired values in the list.\n",
    "        new_list.append(i)\n",
    "    else:\n",
    "        pass\n",
    "new_list"
   ]
  },
  {
   "cell_type": "code",
   "execution_count": null,
   "metadata": {},
   "outputs": [],
   "source": [
    "#Option 2\n",
    "\n",
    "my_list = [1, 2, 3, 4, 5]\n",
    "new_list_2 = []\n",
    "for i, j in enumerate(my_list): #Looks the index of the desired values in the list. \n",
    "    if i in [2, 3, 4]:\n",
    "        new_list_2.append(j)\n",
    "    else:\n",
    "        pass\n",
    "new_list_2"
   ]
  },
  {
   "cell_type": "code",
   "execution_count": null,
   "metadata": {},
   "outputs": [],
   "source": [
    "#Slice by index. Takes from position/index two to the end of the list\n",
    "my_list[2:]"
   ]
  },
  {
   "cell_type": "code",
   "execution_count": null,
   "metadata": {},
   "outputs": [],
   "source": [
    "#Slice by index. Takes the last three positions.\n",
    "my_list[-3:]"
   ]
  },
  {
   "cell_type": "code",
   "execution_count": null,
   "metadata": {},
   "outputs": [],
   "source": [
    "#TODO: Remove the values 1, 2, 4, 5 from the list below and insert values into a  new list.\n",
    "# Option 1 (Preferred way)\n",
    "\n",
    "my_list = [1, 2, 3, 4, 5]\n",
    "first_two = my_list[:2]  # Takes the first two values. The value at index=2 is not included.\n",
    "last_two = my_list[2+1:] # Takes the last two values in the list starting at index=3.\n",
    "first_two + last_two     # Concatenate the results"
   ]
  },
  {
   "cell_type": "code",
   "execution_count": null,
   "metadata": {},
   "outputs": [],
   "source": [
    "# Option 2\n",
    "\n",
    "new_list = []\n",
    "my_list = [1, 2, 3, 4, 5]\n",
    "for i in my_list:\n",
    "    if i in [1, 2, 4, 5]:\n",
    "        new_list.append(i)\n",
    "new_list"
   ]
  },
  {
   "cell_type": "code",
   "execution_count": null,
   "metadata": {},
   "outputs": [],
   "source": [
    "# Option 3\n",
    "\n",
    "new_list = [i for i in my_list if i in [1, 2, 4, 5]]\n",
    "new_list"
   ]
  },
  {
   "cell_type": "markdown",
   "metadata": {},
   "source": [
    "### Slicing numpy arrays."
   ]
  },
  {
   "cell_type": "code",
   "execution_count": null,
   "metadata": {},
   "outputs": [],
   "source": [
    "import numpy as np"
   ]
  },
  {
   "cell_type": "code",
   "execution_count": null,
   "metadata": {},
   "outputs": [],
   "source": [
    "A = np.array([[1, 2, 3], \n",
    "              [4, 5, 6], \n",
    "              [7, 8, 9]])"
   ]
  },
  {
   "cell_type": "code",
   "execution_count": null,
   "metadata": {},
   "outputs": [],
   "source": [
    "A"
   ]
  },
  {
   "cell_type": "code",
   "execution_count": null,
   "metadata": {},
   "outputs": [],
   "source": [
    "#TODO: Return all values from the last row of A.\n",
    "A[2:, :3]"
   ]
  },
  {
   "cell_type": "markdown",
   "metadata": {},
   "source": [
    "### Basic* Format: `A[a:b, c:d]`\n",
    "\n",
    "What  is to the left of the comma refers to the rows you want, and what is to the right of the common pertains to the columns you want"
   ]
  },
  {
   "cell_type": "code",
   "execution_count": null,
   "metadata": {},
   "outputs": [],
   "source": [
    "#TODO: Return the values, 5, 6, 7, 8 from A.\n",
    "A[1:, 1:]"
   ]
  },
  {
   "cell_type": "code",
   "execution_count": null,
   "metadata": {},
   "outputs": [],
   "source": [
    "#TODO: Return the values from  the second column of A.\n",
    "A[:, 1] #Column vector"
   ]
  },
  {
   "cell_type": "code",
   "execution_count": null,
   "metadata": {},
   "outputs": [],
   "source": [
    "# Check dim to be sure that results are a column vector.\n",
    "A[:, 1].shape"
   ]
  },
  {
   "cell_type": "markdown",
   "metadata": {},
   "source": [
    "### Boolean Indexing of a Numpy Array."
   ]
  },
  {
   "cell_type": "code",
   "execution_count": null,
   "metadata": {},
   "outputs": [],
   "source": [
    "#TODO: Return all of the values in A that are strictly less than 5. \n",
    "# Answer should be 1, 2, 3, 4\n",
    "\n",
    "A"
   ]
  },
  {
   "cell_type": "code",
   "execution_count": null,
   "metadata": {},
   "outputs": [],
   "source": [
    "A[A<5]"
   ]
  },
  {
   "cell_type": "code",
   "execution_count": null,
   "metadata": {},
   "outputs": [],
   "source": [
    "#What is happening?\n",
    "[A<5] # Creates a list of an nd-array of bool values."
   ]
  },
  {
   "cell_type": "code",
   "execution_count": null,
   "metadata": {},
   "outputs": [],
   "source": [
    "# When you pass the array of bool values to the original object you can filter based on the True values.\n",
    "A[A<5] #Very common operation in analytics using Pandas, since Pandas is built on top of numpy."
   ]
  },
  {
   "cell_type": "code",
   "execution_count": null,
   "metadata": {},
   "outputs": [],
   "source": [
    "# Also possible to negate the logic to return the complement (i.e., all of the false values from the initial bool array)\n",
    "A[~(A<5)] # Returns all of values that are NOT strictly less than 5 "
   ]
  },
  {
   "cell_type": "markdown",
   "metadata": {},
   "source": [
    "### LU Factorization using Numpy"
   ]
  },
  {
   "cell_type": "code",
   "execution_count": null,
   "metadata": {},
   "outputs": [],
   "source": [
    "from scipy.linalg import lu"
   ]
  },
  {
   "cell_type": "code",
   "execution_count": null,
   "metadata": {},
   "outputs": [],
   "source": [
    "A = np.array([[1, 2, 3], \n",
    "              [4, 5, 6], \n",
    "              [7, 8, 9]])\n",
    "p, l, u = lu(A)"
   ]
  },
  {
   "cell_type": "code",
   "execution_count": null,
   "metadata": {},
   "outputs": [],
   "source": [
    "p"
   ]
  },
  {
   "cell_type": "code",
   "execution_count": null,
   "metadata": {},
   "outputs": [],
   "source": [
    "l"
   ]
  },
  {
   "cell_type": "code",
   "execution_count": null,
   "metadata": {},
   "outputs": [],
   "source": [
    "u"
   ]
  },
  {
   "cell_type": "code",
   "execution_count": null,
   "metadata": {},
   "outputs": [],
   "source": [
    "p.dot(l).dot(u)"
   ]
  },
  {
   "cell_type": "markdown",
   "metadata": {},
   "source": [
    "## Calculate Cartesian Product of Two \"Sets\" using `itertools` (for those taking SSIE501)"
   ]
  },
  {
   "cell_type": "code",
   "execution_count": null,
   "metadata": {},
   "outputs": [],
   "source": [
    "from itertools import product\n",
    "# output are list of tuples (ordered pairs)."
   ]
  },
  {
   "cell_type": "code",
   "execution_count": null,
   "metadata": {},
   "outputs": [],
   "source": [
    "#TODO: Determine Cartesian Product of the two sets below. That is, set_a X set_b.\n",
    "set_a = [1, 2, 3, 4]\n",
    "set_b = ['a', 'b', 'c']"
   ]
  },
  {
   "cell_type": "code",
   "execution_count": null,
   "metadata": {},
   "outputs": [],
   "source": [
    "cart_prod = list(product(set_a, set_b))\n",
    "cart_prod"
   ]
  },
  {
   "cell_type": "code",
   "execution_count": null,
   "metadata": {},
   "outputs": [],
   "source": [
    "set_a = [1, 2]\n",
    "set_b = ['a', 'b']"
   ]
  },
  {
   "cell_type": "code",
   "execution_count": null,
   "metadata": {},
   "outputs": [],
   "source": [
    "#TODO: Calculate the three-way Cartesian Product of the two sets below.\n",
    "set_a = [1, 2]\n",
    "set_b = ['a', 'b']\n",
    "\n",
    "list(product(set_a, set_a, set_b))"
   ]
  },
  {
   "cell_type": "code",
   "execution_count": null,
   "metadata": {},
   "outputs": [],
   "source": [
    "#TODO: Calculate the three-way Cartesian Product of the two sets below as an ordered pair.\n",
    "# That is, (set_a X set_a) X set_b\n",
    "\n",
    "set_a = [1, 2]\n",
    "set_b = ['a', 'b']\n",
    "\n",
    "\n",
    "list(product(product(set_a, set_a), set_b))"
   ]
  },
  {
   "cell_type": "code",
   "execution_count": null,
   "metadata": {},
   "outputs": [],
   "source": [
    "# Calculate the Cartesian Product given as (set_a X set_b) X (set_a X set_b)\n",
    "list(product(product(set_a, set_b), product(set_a, set_b)))"
   ]
  }
 ],
 "metadata": {
  "kernelspec": {
   "display_name": "Python 3",
   "language": "python",
   "name": "python3"
  },
  "language_info": {
   "codemirror_mode": {
    "name": "ipython",
    "version": 3
   },
   "file_extension": ".py",
   "mimetype": "text/x-python",
   "name": "python",
   "nbconvert_exporter": "python",
   "pygments_lexer": "ipython3",
   "version": "3.8.3"
  }
 },
 "nbformat": 4,
 "nbformat_minor": 4
}
