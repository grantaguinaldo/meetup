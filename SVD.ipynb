{
 "cells": [
  {
   "cell_type": "code",
   "execution_count": 1,
   "metadata": {},
   "outputs": [],
   "source": [
    "import numpy as np\n",
    "import matplotlib.pyplot as plt\n",
    "from numpy import dot\n",
    "from numpy.linalg import norm"
   ]
  },
  {
   "cell_type": "code",
   "execution_count": 2,
   "metadata": {},
   "outputs": [],
   "source": [
    "# Create matrix\n",
    "A = np.array([[1, 2, 3, 4], \n",
    "              [5, 6, 7, 8], \n",
    "              [9, 1, 11, 12], \n",
    "              [20, 100, 15, 16],\n",
    "              [1, 5, 2, 1], \n",
    "              [0, 0, 1, 100]])"
   ]
  },
  {
   "cell_type": "code",
   "execution_count": 3,
   "metadata": {},
   "outputs": [],
   "source": [
    "#Calculate cosine between two vectors\n",
    "def cosine(x, y):\n",
    "    return dot(x, y)/(norm(x)*norm(y))"
   ]
  },
  {
   "cell_type": "code",
   "execution_count": 4,
   "metadata": {},
   "outputs": [
    {
     "data": {
      "text/plain": [
       "0.678067008902815"
      ]
     },
     "execution_count": 4,
     "metadata": {},
     "output_type": "execute_result"
    }
   ],
   "source": [
    "vec_1 = A[1]\n",
    "vec_2 = A[3]\n",
    "\n",
    "cosine(vec_1, vec_2)"
   ]
  },
  {
   "cell_type": "code",
   "execution_count": 5,
   "metadata": {},
   "outputs": [
    {
     "data": {
      "text/plain": [
       "0.4628024539361702"
      ]
     },
     "execution_count": 5,
     "metadata": {},
     "output_type": "execute_result"
    }
   ],
   "source": [
    "vec_1 = A[2]\n",
    "vec_2 = A[4]\n",
    "\n",
    "cosine(vec_1, vec_2)"
   ]
  },
  {
   "cell_type": "code",
   "execution_count": 6,
   "metadata": {},
   "outputs": [],
   "source": [
    "#SVD of the matrix.\n",
    "\n",
    "U, S, VT = np.linalg.svd(A, full_matrices=False)"
   ]
  },
  {
   "cell_type": "code",
   "execution_count": 7,
   "metadata": {},
   "outputs": [
    {
     "data": {
      "text/plain": [
       "array([[-0.04193177, -0.0129508 , -0.15350846,  0.71100145],\n",
       "       [-0.10176134, -0.00679149, -0.4400771 ,  0.37534404],\n",
       "       [-0.10473899, -0.06440538, -0.86835755, -0.35561329],\n",
       "       [-0.77426772,  0.62435902,  0.07748981, -0.05575232],\n",
       "       [-0.04137662,  0.03077455, -0.06031193,  0.47316774],\n",
       "       [-0.61295479, -0.77773185,  0.13813132, -0.0117029 ]])"
      ]
     },
     "execution_count": 7,
     "metadata": {},
     "output_type": "execute_result"
    }
   ],
   "source": [
    "U"
   ]
  },
  {
   "cell_type": "code",
   "execution_count": 8,
   "metadata": {},
   "outputs": [
    {
     "data": {
      "text/plain": [
       "array([111.42883227,  93.88553336,  15.186801  ,   1.5757661 ])"
      ]
     },
     "execution_count": 8,
     "metadata": {},
     "output_type": "execute_result"
    }
   ],
   "source": [
    "S"
   ]
  },
  {
   "cell_type": "code",
   "execution_count": 9,
   "metadata": {},
   "outputs": [
    {
     "data": {
      "text/plain": [
       "array([[-0.15274431, -0.70388268, -0.12833283, -0.68172504],\n",
       "       [ 0.12665847,  0.66526457,  0.08365879, -0.73101429],\n",
       "       [-0.57152442,  0.23912766, -0.78444062,  0.02882214],\n",
       "       [-0.79623278,  0.06921113,  0.60098653, -0.00619428]])"
      ]
     },
     "execution_count": 9,
     "metadata": {},
     "output_type": "execute_result"
    }
   ],
   "source": [
    "VT"
   ]
  },
  {
   "cell_type": "code",
   "execution_count": 10,
   "metadata": {},
   "outputs": [
    {
     "data": {
      "text/plain": [
       "(4,)"
      ]
     },
     "execution_count": 10,
     "metadata": {},
     "output_type": "execute_result"
    }
   ],
   "source": [
    "S.shape"
   ]
  },
  {
   "cell_type": "code",
   "execution_count": 11,
   "metadata": {},
   "outputs": [
    {
     "data": {
      "text/plain": [
       "array([5.78474872e-01, 4.10664060e-01, 1.07453841e-02, 1.15683880e-04])"
      ]
     },
     "execution_count": 11,
     "metadata": {},
     "output_type": "execute_result"
    }
   ],
   "source": [
    "S**2/np.sum(S**2)"
   ]
  },
  {
   "cell_type": "code",
   "execution_count": 12,
   "metadata": {},
   "outputs": [
    {
     "data": {
      "text/plain": [
       "0.9891389320030759"
      ]
     },
     "execution_count": 12,
     "metadata": {},
     "output_type": "execute_result"
    }
   ],
   "source": [
    "#Variance from the first two principal components\n",
    "sum(list(S**2/np.sum(S**2))[:2])"
   ]
  },
  {
   "cell_type": "code",
   "execution_count": 13,
   "metadata": {},
   "outputs": [],
   "source": [
    "S_full = np.zeros((4, 4))"
   ]
  },
  {
   "cell_type": "code",
   "execution_count": 14,
   "metadata": {},
   "outputs": [],
   "source": [
    "#Convert vector of singular values to dig. matrix.\n",
    "for i, j in enumerate(list(S)):\n",
    "    S_full[i][i] = j"
   ]
  },
  {
   "cell_type": "code",
   "execution_count": 15,
   "metadata": {},
   "outputs": [
    {
     "data": {
      "text/plain": [
       "array([[111.42883227,   0.        ,   0.        ,   0.        ],\n",
       "       [  0.        ,  93.88553336,   0.        ,   0.        ],\n",
       "       [  0.        ,   0.        ,  15.186801  ,   0.        ],\n",
       "       [  0.        ,   0.        ,   0.        ,   1.5757661 ]])"
      ]
     },
     "execution_count": 15,
     "metadata": {},
     "output_type": "execute_result"
    }
   ],
   "source": [
    "S_full"
   ]
  },
  {
   "cell_type": "code",
   "execution_count": 16,
   "metadata": {},
   "outputs": [
    {
     "data": {
      "text/plain": [
       "(4, 4)"
      ]
     },
     "execution_count": 16,
     "metadata": {},
     "output_type": "execute_result"
    }
   ],
   "source": [
    "S_full.shape"
   ]
  },
  {
   "cell_type": "code",
   "execution_count": 17,
   "metadata": {},
   "outputs": [
    {
     "data": {
      "text/plain": [
       "array([[ 1.00000000e+00,  2.00000000e+00,  3.00000000e+00,\n",
       "         4.00000000e+00],\n",
       "       [ 5.00000000e+00,  6.00000000e+00,  7.00000000e+00,\n",
       "         8.00000000e+00],\n",
       "       [ 9.00000000e+00,  1.00000000e+00,  1.10000000e+01,\n",
       "         1.20000000e+01],\n",
       "       [ 2.00000000e+01,  1.00000000e+02,  1.50000000e+01,\n",
       "         1.60000000e+01],\n",
       "       [ 1.00000000e+00,  5.00000000e+00,  2.00000000e+00,\n",
       "         1.00000000e+00],\n",
       "       [ 1.45661261e-13, -2.84217094e-14,  1.00000000e+00,\n",
       "         1.00000000e+02]])"
      ]
     },
     "execution_count": 17,
     "metadata": {},
     "output_type": "execute_result"
    }
   ],
   "source": [
    "#Reconstruct matrix from components.\n",
    "U.dot(S_full).dot(VT)"
   ]
  },
  {
   "cell_type": "code",
   "execution_count": 18,
   "metadata": {},
   "outputs": [],
   "source": [
    "#Choose dim for data viz\n",
    "num_sig = 2"
   ]
  },
  {
   "cell_type": "code",
   "execution_count": 19,
   "metadata": {},
   "outputs": [
    {
     "data": {
      "text/plain": [
       "array([[111.42883227,   0.        ],\n",
       "       [  0.        ,  93.88553336],\n",
       "       [  0.        ,   0.        ],\n",
       "       [  0.        ,   0.        ]])"
      ]
     },
     "execution_count": 19,
     "metadata": {},
     "output_type": "execute_result"
    }
   ],
   "source": [
    "# Create singular value matrix for reduced dim\n",
    "S_full = S_full[:, : num_sig]\n",
    "S_full"
   ]
  },
  {
   "cell_type": "code",
   "execution_count": 20,
   "metadata": {},
   "outputs": [
    {
     "data": {
      "text/plain": [
       "array([[-0.15274431, -0.70388268, -0.12833283, -0.68172504],\n",
       "       [ 0.12665847,  0.66526457,  0.08365879, -0.73101429]])"
      ]
     },
     "execution_count": 20,
     "metadata": {},
     "output_type": "execute_result"
    }
   ],
   "source": [
    "# Create right singular matrix for reduced dim\n",
    "VT = VT[:num_sig, :]\n",
    "VT"
   ]
  },
  {
   "cell_type": "code",
   "execution_count": 21,
   "metadata": {},
   "outputs": [
    {
     "data": {
      "text/plain": [
       "array([[ -4.67240832,  -1.21589315],\n",
       "       [-11.33914778,  -0.63762294],\n",
       "       [-11.67094308,  -6.04673388],\n",
       "       [-86.27574764,  58.61827992],\n",
       "       [ -4.61054843,   2.88928463],\n",
       "       [-68.30083667, -73.01776989]])"
      ]
     },
     "execution_count": 21,
     "metadata": {},
     "output_type": "execute_result"
    }
   ],
   "source": [
    "#Recalculate A in reduced dim\n",
    "U.dot(S_full)"
   ]
  },
  {
   "cell_type": "code",
   "execution_count": 22,
   "metadata": {},
   "outputs": [
    {
     "data": {
      "text/plain": [
       "array([[ -4.67240832,  -1.21589315],\n",
       "       [-11.33914778,  -0.63762294],\n",
       "       [-11.67094308,  -6.04673388],\n",
       "       [-86.27574764,  58.61827992],\n",
       "       [ -4.61054843,   2.88928463],\n",
       "       [-68.30083667, -73.01776989]])"
      ]
     },
     "execution_count": 22,
     "metadata": {},
     "output_type": "execute_result"
    }
   ],
   "source": [
    "#Recalculate A in reduced dim\n",
    "A.dot(VT.T)"
   ]
  },
  {
   "cell_type": "code",
   "execution_count": 23,
   "metadata": {},
   "outputs": [
    {
     "data": {
      "image/png": "[encoded data removed]",
      "text/plain": [
       "<Figure size 432x288 with 1 Axes>"
      ]
     },
     "metadata": {
      "needs_background": "light"
     },
     "output_type": "display_data"
    }
   ],
   "source": [
    "#Plot values in reduced dim.\n",
    "x = A.dot(VT.T)[:,0]\n",
    "y = A.dot(VT.T)[:,1]\n",
    "\n",
    "plt.scatter(x, y)\n",
    "plt.xlabel('PC1', fontsize=14)\n",
    "plt.ylabel('PC2', fontsize=14)\n",
    "plt.title(\"2D Plot of Matrix 'A'\", fontsize=14)\n",
    "plt.show()"
   ]
  },
  {
   "cell_type": "code",
   "execution_count": 24,
   "metadata": {},
   "outputs": [
    {
     "data": {
      "text/plain": [
       "0.7942894361532875"
      ]
     },
     "execution_count": 24,
     "metadata": {},
     "output_type": "execute_result"
    }
   ],
   "source": [
    "cosine(A.dot(VT.T)[1], A.dot(VT.T)[3])"
   ]
  },
  {
   "cell_type": "code",
   "execution_count": 25,
   "metadata": {},
   "outputs": [
    {
     "data": {
      "text/plain": [
       "0.678067008902815"
      ]
     },
     "execution_count": 25,
     "metadata": {},
     "output_type": "execute_result"
    }
   ],
   "source": [
    "cosine(A[1], A[3])"
   ]
  }
 ],
 "metadata": {
  "kernelspec": {
   "display_name": "Python 3",
   "language": "python",
   "name": "python3"
  },
  "language_info": {
   "codemirror_mode": {
    "name": "ipython",
    "version": 3
   },
   "file_extension": ".py",
   "mimetype": "text/x-python",
   "name": "python",
   "nbconvert_exporter": "python",
   "pygments_lexer": "ipython3",
   "version": "3.8.3"
  }
 },
 "nbformat": 4,
 "nbformat_minor": 4
}
